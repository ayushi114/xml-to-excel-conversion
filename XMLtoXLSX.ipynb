{
 "cells": [
  {
   "cell_type": "code",
   "execution_count": 57,
   "metadata": {},
   "outputs": [],
   "source": [
    "'''\n",
    "This script converts any XML file to Excel(XLSX) file.\n",
    "Input:\n",
    "1) File location\n",
    "2) Worksheet name\n",
    "3) Output file location\n",
    "\n",
    "Developer: Ayushi Ranjan, Software Engineer\n",
    "V1.0 date: 13th July, 2021\n",
    "'''\n",
    "import pandas as pd\n",
    "import chilkat"
   ]
  },
  {
   "cell_type": "code",
   "execution_count": 68,
   "metadata": {},
   "outputs": [],
   "source": [
    "'''This function accepts file location and worksheet name of XML file, and then it converts it to XLSX file.'''\n",
    "def convertXmlToXlsx(filelocation,worksheet,outputlocation):\n",
    "    print(\"Converting XML to XLSX....\")\n",
    "    xlsDoc = chilkat.CkXml()\n",
    "    success = xlsDoc.LoadXmlFile(filelocation)\n",
    "    if (success != True):\n",
    "        print(xlsDoc.lastErrorText())\n",
    "        sys.exit()\n",
    "\n",
    "    xWorksheets = []\n",
    "    xWorksheet = xlsDoc.GetChildWithAttr(\"Worksheet\",\"ss:Name\",worksheet)\n",
    "    #xWorksheet2 = xlsDoc.GetChildWithAttr(\"Worksheet\",\"ss:Name\",\"PSG_Data2\")\n",
    "    xWorksheets.append(xWorksheet)\n",
    "    #xWorksheets.append(xWorksheet2)\n",
    "    #  Next, get the Table node:\n",
    "    workbook = []\n",
    "    for xWorksheet in xWorksheets:\n",
    "        sheet_as_list = []\n",
    "        #print(xWorksheet)\n",
    "        x = xWorksheet.GetChildWithTag(\"Table\")\n",
    "        numChildren = x.get_NumChildren()\n",
    "        for i in range(0,((numChildren - 1))-1):\n",
    "            #  Navigate without creating new XML objects\n",
    "            success = x.GetChild2(i)\n",
    "            if (x.TagEquals(\"Row\")):\n",
    "                row_as_list = []\n",
    "                numCells2 = x.get_NumChildren()\n",
    "                for cell in range(0,numCells2):\n",
    "                        success2 = x.GetChild2(cell)\n",
    "                        row_as_list.append(x.chilkatPath(\"Data|*\"))\n",
    "                        success2 = x.GetParent2()\n",
    "                sheet_as_list.append(row_as_list)\n",
    "            #  Navigate back up.\n",
    "            success = x.GetParent2()\n",
    "        workbook.append(sheet_as_list)\n",
    "    \"\"\"Here we need to check our worksheet once to see which row has columns and required data.\"\"\"\n",
    "    #print(workbook[0][3])\n",
    "    df = pd.DataFrame(columns = workbook[0][3])\n",
    "    #print(df.columns)\n",
    "    workbook2 = workbook[0][4:]\n",
    "    #print(workbook2)\n",
    "    for wo in workbook2:\n",
    "        df_length = len(df)\n",
    "        df.loc[df_length] = wo\n",
    "    #print(df.sample(10))\n",
    "    outputFile = outputlocation+\"output.xlsx\"\n",
    "    df.to_excel(outputFile)\n",
    "    print(\"File converted to excel\")"
   ]
  },
  {
   "cell_type": "code",
   "execution_count": 69,
   "metadata": {},
   "outputs": [
    {
     "name": "stdout",
     "output_type": "stream",
     "text": [
      "---------------In Convert Data-----------------------\n",
      "File converted to excel\n"
     ]
    }
   ],
   "source": [
    "'''\n",
    "Input variables:\n",
    "1) filelocation:Location and name of input XML file\n",
    "2) worksheet:Name of worksheet\n",
    "3) outputlocation:Location on computer where you want to store output file\n",
    "\n",
    "Modify these variables according to your requirement\n",
    "'''\n",
    "filelocation = \"C:\\\\Users\\\\Ayushi.Ranjan\\\\OneDrive - Shell\\\\Documents\\\\Sandbox\\\\Reusable Components\\\\coalpublic2012.xml\"\n",
    "worksheet = \"Hist_Coal_Prod\"\n",
    "outputlocation = \"C:\\\\Users\\\\Ayushi.Ranjan\\\\OneDrive - Shell\\\\Documents\\\\Sandbox\\\\Reusable Components\\\\\"\n",
    "convertXmlToXlsx(filelocation,worksheet,outputlocation)"
   ]
  }
 ],
 "metadata": {
  "kernelspec": {
   "display_name": "Python 3",
   "language": "python",
   "name": "python3"
  },
  "language_info": {
   "codemirror_mode": {
    "name": "ipython",
    "version": 3
   },
   "file_extension": ".py",
   "mimetype": "text/x-python",
   "name": "python",
   "nbconvert_exporter": "python",
   "pygments_lexer": "ipython3",
   "version": "3.7.0"
  }
 },
 "nbformat": 4,
 "nbformat_minor": 2
}
